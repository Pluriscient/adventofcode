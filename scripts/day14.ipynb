{
 "cells": [
  {
   "cell_type": "code",
   "execution_count": 5,
   "metadata": {},
   "outputs": [
    {
     "data": {
      "text/plain": [
       "[<matplotlib.lines.Line2D at 0x7fb32422b400>]"
      ]
     },
     "execution_count": 5,
     "metadata": {},
     "output_type": "execute_result"
    },
    {
     "data": {
      "image/png": "[encoded data removed]",
      "text/plain": [
       "<Figure size 432x288 with 1 Axes>"
      ]
     },
     "metadata": {
      "needs_background": "light"
     },
     "output_type": "display_data"
    }
   ],
   "source": [
    "import numpy as np\n",
    "import matplotlib.pyplot as plt\n",
    "\n",
    "data = '''Completed step 0\n",
    "The size of the template is 7\n",
    "Completed step 1\n",
    "The size of the template is 13\n",
    "Completed step 2\n",
    "The size of the template is 25\n",
    "Completed step 3\n",
    "The size of the template is 49\n",
    "Completed step 4\n",
    "The size of the template is 97\n",
    "Completed step 5\n",
    "The size of the template is 193\n",
    "Completed step 6\n",
    "The size of the template is 385\n",
    "Completed step 7\n",
    "The size of the template is 769\n",
    "Completed step 8\n",
    "The size of the template is 1537\n",
    "Completed step 9\n",
    "The size of the template is 3073\n",
    "Completed step 10\n",
    "The size of the template is 6145\n",
    "Completed step 11\n",
    "The size of the template is 12289\n",
    "Completed step 12\n",
    "The size of the template is 24577\n",
    "Completed step 13\n",
    "The size of the template is 49153\n",
    "Completed step 14\n",
    "The size of the template is 98305\n",
    "Completed step 15\n",
    "The size of the template is 196609\n",
    "Completed step 16\n",
    "The size of the template is 393217\n",
    "Completed step 17\n",
    "The size of the template is 786433\n",
    "The size of the template is 1572865'''\n",
    "data = [line.split()[-1] for line in data.splitlines() if line.startswith(\"The size\")]\n",
    "data\n",
    "\n",
    "plt.plot(np.arange(len(data)), data)"
   ]
  },
  {
   "cell_type": "code",
   "execution_count": 6,
   "metadata": {},
   "outputs": [
    {
     "name": "stdout",
     "output_type": "stream",
     "text": [
      "\u001b[0;31mInit signature:\u001b[0m \u001b[0mCounter\u001b[0m\u001b[0;34m(\u001b[0m\u001b[0miterable\u001b[0m\u001b[0;34m=\u001b[0m\u001b[0;32mNone\u001b[0m\u001b[0;34m,\u001b[0m \u001b[0;34m/\u001b[0m\u001b[0;34m,\u001b[0m \u001b[0;34m**\u001b[0m\u001b[0mkwds\u001b[0m\u001b[0;34m)\u001b[0m\u001b[0;34m\u001b[0m\u001b[0;34m\u001b[0m\u001b[0m\n",
      "\u001b[0;31mDocstring:\u001b[0m     \n",
      "Dict subclass for counting hashable items.  Sometimes called a bag\n",
      "or multiset.  Elements are stored as dictionary keys and their counts\n",
      "are stored as dictionary values.\n",
      "\n",
      ">>> c = Counter('abcdeabcdabcaba')  # count elements from a string\n",
      "\n",
      ">>> c.most_common(3)                # three most common elements\n",
      "[('a', 5), ('b', 4), ('c', 3)]\n",
      ">>> sorted(c)                       # list all unique elements\n",
      "['a', 'b', 'c', 'd', 'e']\n",
      ">>> ''.join(sorted(c.elements()))   # list elements with repetitions\n",
      "'aaaaabbbbcccdde'\n",
      ">>> sum(c.values())                 # total of all counts\n",
      "15\n",
      "\n",
      ">>> c['a']                          # count of letter 'a'\n",
      "5\n",
      ">>> for elem in 'shazam':           # update counts from an iterable\n",
      "...     c[elem] += 1                # by adding 1 to each element's count\n",
      ">>> c['a']                          # now there are seven 'a'\n",
      "7\n",
      ">>> del c['b']                      # remove all 'b'\n",
      ">>> c['b']                          # now there are zero 'b'\n",
      "0\n",
      "\n",
      ">>> d = Counter('simsalabim')       # make another counter\n",
      ">>> c.update(d)                     # add in the second counter\n",
      ">>> c['a']                          # now there are nine 'a'\n",
      "9\n",
      "\n",
      ">>> c.clear()                       # empty the counter\n",
      ">>> c\n",
      "Counter()\n",
      "\n",
      "Note:  If a count is set to zero or reduced to zero, it will remain\n",
      "in the counter until the entry is deleted or the counter is cleared:\n",
      "\n",
      ">>> c = Counter('aaabbc')\n",
      ">>> c['b'] -= 2                     # reduce the count of 'b' by two\n",
      ">>> c.most_common()                 # 'b' is still in, but its count is zero\n",
      "[('a', 3), ('c', 1), ('b', 0)]\n",
      "\u001b[0;31mInit docstring:\u001b[0m\n",
      "Create a new, empty Counter object.  And if given, count elements\n",
      "from an input iterable.  Or, initialize the count from another mapping\n",
      "of elements to their counts.\n",
      "\n",
      ">>> c = Counter()                           # a new, empty counter\n",
      ">>> c = Counter('gallahad')                 # a new counter from an iterable\n",
      ">>> c = Counter({'a': 4, 'b': 2})           # a new counter from a mapping\n",
      ">>> c = Counter(a=4, b=2)                   # a new counter from keyword args\n",
      "\u001b[0;31mFile:\u001b[0m           ~/miniconda3/envs/mbc/lib/python3.9/collections/__init__.py\n",
      "\u001b[0;31mType:\u001b[0m           type\n",
      "\u001b[0;31mSubclasses:\u001b[0m     \n"
     ]
    }
   ],
   "source": [
    "from collections import Counter\n"
   ]
  }
 ],
 "metadata": {
  "interpreter": {
   "hash": "d8ac7c8f2bd1f334fcf39780c19700d3827c4d976bc2ad57256fc62c4f5a6cd6"
  },
  "kernelspec": {
   "display_name": "Python 3.9.7 64-bit ('mbc': conda)",
   "language": "python",
   "name": "python3"
  },
  "language_info": {
   "codemirror_mode": {
    "name": "ipython",
    "version": 3
   },
   "file_extension": ".py",
   "mimetype": "text/x-python",
   "name": "python",
   "nbconvert_exporter": "python",
   "pygments_lexer": "ipython3",
   "version": "3.9.7"
  },
  "orig_nbformat": 4
 },
 "nbformat": 4,
 "nbformat_minor": 2
}
